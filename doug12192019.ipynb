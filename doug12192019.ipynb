{
 "cells": [
  {
   "cell_type": "code",
   "execution_count": 1,
   "metadata": {},
   "outputs": [
    {
     "ename": "SyntaxError",
     "evalue": "EOL while scanning string literal (<ipython-input-1-91c08de83dce>, line 1)",
     "output_type": "error",
     "traceback": [
      "\u001b[1;36m  File \u001b[1;32m\"<ipython-input-1-91c08de83dce>\"\u001b[1;36m, line \u001b[1;32m1\u001b[0m\n\u001b[1;33m    print('Hello World\")\u001b[0m\n\u001b[1;37m                        ^\u001b[0m\n\u001b[1;31mSyntaxError\u001b[0m\u001b[1;31m:\u001b[0m EOL while scanning string literal\n"
     ]
    }
   ],
   "source": [
    "print('Hello World\")"
   ]
  },
  {
   "cell_type": "code",
   "execution_count": 2,
   "metadata": {},
   "outputs": [
    {
     "name": "stdout",
     "output_type": "stream",
     "text": [
      "Hello World\n"
     ]
    }
   ],
   "source": [
    "print(\"Hello World\")"
   ]
  },
  {
   "cell_type": "code",
   "execution_count": 3,
   "metadata": {},
   "outputs": [
    {
     "name": "stdout",
     "output_type": "stream",
     "text": [
      "The Zen of Python, by Tim Peters\n",
      "\n",
      "Beautiful is better than ugly.\n",
      "Explicit is better than implicit.\n",
      "Simple is better than complex.\n",
      "Complex is better than complicated.\n",
      "Flat is better than nested.\n",
      "Sparse is better than dense.\n",
      "Readability counts.\n",
      "Special cases aren't special enough to break the rules.\n",
      "Although practicality beats purity.\n",
      "Errors should never pass silently.\n",
      "Unless explicitly silenced.\n",
      "In the face of ambiguity, refuse the temptation to guess.\n",
      "There should be one-- and preferably only one --obvious way to do it.\n",
      "Although that way may not be obvious at first unless you're Dutch.\n",
      "Now is better than never.\n",
      "Although never is often better than *right* now.\n",
      "If the implementation is hard to explain, it's a bad idea.\n",
      "If the implementation is easy to explain, it may be a good idea.\n",
      "Namespaces are one honking great idea -- let's do more of those!\n"
     ]
    }
   ],
   "source": [
    "import this\n"
   ]
  },
  {
   "cell_type": "code",
   "execution_count": 3,
   "metadata": {},
   "outputs": [
    {
     "name": "stdout",
     "output_type": "stream",
     "text": [
      "19.9\n"
     ]
    }
   ],
   "source": [
    "#This variable contains an integer\n",
    "quantity = 10\n",
    "unit_price = 1.99\n",
    "extended_price = quantity * unit_price\n",
    "print(extended_price)\n"
   ]
  },
  {
   "cell_type": "code",
   "execution_count": null,
   "metadata": {},
   "outputs": [],
   "source": []
  },
  {
   "cell_type": "code",
   "execution_count": 4,
   "metadata": {},
   "outputs": [
    {
     "name": "stdout",
     "output_type": "stream",
     "text": [
      "373.24\n"
     ]
    }
   ],
   "source": [
    "#This variable contains an integer\n",
    "quantity = 14\n",
    "unit_price = 26.66\n",
    "extended_price = quantity * unit_price\n",
    "print(extended_price)\n"
   ]
  },
  {
   "cell_type": "code",
   "execution_count": 10,
   "metadata": {},
   "outputs": [
    {
     "name": "stdout",
     "output_type": "stream",
     "text": [
      "9.0\n"
     ]
    }
   ],
   "source": [
    "import math\n",
    "z = 81\n",
    "print(math.sqrt(81))"
   ]
  },
  {
   "cell_type": "code",
   "execution_count": 11,
   "metadata": {},
   "outputs": [
    {
     "name": "stdout",
     "output_type": "stream",
     "text": [
      "Hello Alan\n"
     ]
    }
   ],
   "source": [
    "user_name = \"Alan\"\n",
    "print(f\"Hello {user_name}\")"
   ]
  },
  {
   "cell_type": "code",
   "execution_count": 13,
   "metadata": {},
   "outputs": [
    {
     "name": "stdout",
     "output_type": "stream",
     "text": [
      "Subtotal: $1499.7\n"
     ]
    }
   ],
   "source": [
    "unit_price = 49.99\n",
    "quantity = 30\n",
    "print(f\"Subtotal: ${quantity * unit_price}\")"
   ]
  },
  {
   "cell_type": "code",
   "execution_count": 14,
   "metadata": {},
   "outputs": [
    {
     "name": "stdout",
     "output_type": "stream",
     "text": [
      "Subtotal: $1,499.70\n"
     ]
    }
   ],
   "source": [
    "unit_price = 49.99\n",
    "quantity = 30\n",
    "print(f\"Subtotal: ${quantity * unit_price:,.2f}\")"
   ]
  },
  {
   "cell_type": "code",
   "execution_count": 15,
   "metadata": {},
   "outputs": [
    {
     "name": "stdout",
     "output_type": "stream",
     "text": [
      "Sales Taxe Rate 0.065\n"
     ]
    }
   ],
   "source": [
    "sales_tax_rate = 0.065\n",
    "print(f\"Sales Taxe Rate {sales_tax_rate}\")"
   ]
  },
  {
   "cell_type": "code",
   "execution_count": null,
   "metadata": {},
   "outputs": [],
   "source": []
  },
  {
   "cell_type": "code",
   "execution_count": 17,
   "metadata": {},
   "outputs": [
    {
     "name": "stdout",
     "output_type": "stream",
     "text": [
      "Sales Taxe Rate 6.50%\n"
     ]
    }
   ],
   "source": [
    "sales_tax_rate = 0.065\n",
    "print(f\"Sales Taxe Rate {sales_tax_rate:.2%}\")"
   ]
  },
  {
   "cell_type": "markdown",
   "metadata": {},
   "source": [
    "# ALIGNMENT OF NUMBERS"
   ]
  },
  {
   "cell_type": "code",
   "execution_count": 21,
   "metadata": {},
   "outputs": [
    {
     "name": "stdout",
     "output_type": "stream",
     "text": [
      " \n",
      "Subtotal:  $ 1,598.40\n",
      "Sales Tax: $   103.90\n",
      "Total      $ 1,702.30\n"
     ]
    }
   ],
   "source": [
    "unit_price =49.95\n",
    "quantity = 32\n",
    "sales_tax_rate = 0.065\n",
    "subtotal = quantity * unit_price\n",
    "sales_tax = sales_tax_rate * subtotal\n",
    "total = subtotal + sales_tax\n",
    "output=f\"\"\" \n",
    "Subtotal:  ${subtotal:>9,.2f}\n",
    "Sales Tax: ${sales_tax:>9,.2f}\n",
    "Total      ${total:>9,.2f}\"\"\"\n",
    "\n",
    "print(output)"
   ]
  },
  {
   "cell_type": "markdown",
   "metadata": {},
   "source": [
    "COMPLEX NUMBERS "
   ]
  },
  {
   "cell_type": "code",
   "execution_count": 25,
   "metadata": {},
   "outputs": [
    {
     "name": "stdout",
     "output_type": "stream",
     "text": [
      "0b11111111\n"
     ]
    }
   ],
   "source": [
    "print(bin(255))"
   ]
  },
  {
   "cell_type": "markdown",
   "metadata": {},
   "source": [
    "Conceatenating Strings"
   ]
  },
  {
   "cell_type": "code",
   "execution_count": 1,
   "metadata": {},
   "outputs": [
    {
     "name": "stdout",
     "output_type": "stream",
     "text": [
      "AlanCSimpson\n"
     ]
    }
   ],
   "source": [
    "frist_name = \"Alan\"\n",
    "middle_int = \"C\"\n",
    "last_name = \"Simpson\"\n",
    "full_name = frist_name+middle_int+last_name\n",
    "print (full_name)"
   ]
  },
  {
   "cell_type": "code",
   "execution_count": 2,
   "metadata": {},
   "outputs": [
    {
     "name": "stdout",
     "output_type": "stream",
     "text": [
      "Alan C Simpson\n"
     ]
    }
   ],
   "source": [
    "frist_name = \"Alan\"\n",
    "middle_int = \"C\"\n",
    "last_name = \"Simpson\"\n",
    "full_name = frist_name+\" \"+middle_int+\" \"+last_name\n",
    "print (full_name)"
   ]
  },
  {
   "cell_type": "markdown",
   "metadata": {},
   "source": [
    "Length of String"
   ]
  },
  {
   "cell_type": "code",
   "execution_count": 3,
   "metadata": {},
   "outputs": [
    {
     "name": "stdout",
     "output_type": "stream",
     "text": [
      "0\n",
      "1\n",
      "5\n"
     ]
    }
   ],
   "source": [
    "s1 = \"\"\n",
    "s2 = \" \"\n",
    "s3 = \"A B C\"\n",
    "print(len(s1))\n",
    "print(len(s2))\n",
    "print(len(s3))\n"
   ]
  },
  {
   "cell_type": "markdown",
   "metadata": {},
   "source": [
    "DATE and TIME"
   ]
  },
  {
   "cell_type": "code",
   "execution_count": 6,
   "metadata": {},
   "outputs": [
    {
     "name": "stdout",
     "output_type": "stream",
     "text": [
      "2019-12-19\n",
      "2019-12-31\n"
     ]
    }
   ],
   "source": [
    "import datetime as dt\n",
    "today = dt.date.today()\n",
    "last_of_teens = dt.date(2019,12,31)\n",
    "print(today)\n",
    "print(last_of_teens)"
   ]
  },
  {
   "cell_type": "code",
   "execution_count": 7,
   "metadata": {},
   "outputs": [
    {
     "name": "stdout",
     "output_type": "stream",
     "text": [
      "AlanCSimpson\n",
      "12\n",
      "31\n",
      "2019\n"
     ]
    }
   ],
   "source": [
    "frist_name = \"Alan\"\n",
    "middle_int = \"C\"\n",
    "last_name = \"Simpson\"\n",
    "full_name = frist_name+middle_int+last_name\n",
    "print (full_name)\n",
    "print(last_of_teens.month)\n",
    "print(last_of_teens.day)\n",
    "print(last_of_teens.year)"
   ]
  },
  {
   "cell_type": "markdown",
   "metadata": {},
   "source": [
    "TIME"
   ]
  },
  {
   "cell_type": "code",
   "execution_count": 10,
   "metadata": {},
   "outputs": [
    {
     "name": "stdout",
     "output_type": "stream",
     "text": [
      "00:00:00\n"
     ]
    }
   ],
   "source": [
    "midnight = dt.time()\n",
    "print(midnight)"
   ]
  },
  {
   "cell_type": "code",
   "execution_count": 11,
   "metadata": {},
   "outputs": [
    {
     "name": "stdout",
     "output_type": "stream",
     "text": [
      "<class 'datetime.time'>\n"
     ]
    }
   ],
   "source": [
    "print(type(midnight))"
   ]
  },
  {
   "cell_type": "code",
   "execution_count": 12,
   "metadata": {},
   "outputs": [
    {
     "name": "stdout",
     "output_type": "stream",
     "text": [
      "2019-12-19 13:16:41.349599\n"
     ]
    }
   ],
   "source": [
    "import datetime as dt\n",
    "right_now = dt.datetime.now()\n",
    "print(right_now)"
   ]
  },
  {
   "cell_type": "markdown",
   "metadata": {},
   "source": [
    "TIMESPANS"
   ]
  },
  {
   "cell_type": "code",
   "execution_count": 14,
   "metadata": {},
   "outputs": [
    {
     "name": "stdout",
     "output_type": "stream",
     "text": [
      "146 days, 0:00:00\n"
     ]
    }
   ],
   "source": [
    "import datetime as dt\n",
    "new_years_day = dt.date(2019,1,1)\n",
    "memorial_day = dt.date(2019,5,27)\n",
    "days_between = memorial_day - new_years_day\n",
    "print (days_between)\n"
   ]
  },
  {
   "cell_type": "code",
   "execution_count": 15,
   "metadata": {},
   "outputs": [
    {
     "data": {
      "text/plain": [
       "datetime.timedelta"
      ]
     },
     "execution_count": 15,
     "metadata": {},
     "output_type": "execute_result"
    }
   ],
   "source": [
    "type(days_between)"
   ]
  },
  {
   "cell_type": "code",
   "execution_count": 18,
   "metadata": {},
   "outputs": [
    {
     "name": "stdout",
     "output_type": "stream",
     "text": [
      "2019-05-27\n"
     ]
    }
   ],
   "source": [
    "import datetime as dt\n",
    "new_years = dt.date(2019,1,1)\n",
    "duration = dt.timedelta(days=146)\n",
    "print(new_years + duration)"
   ]
  },
  {
   "cell_type": "markdown",
   "metadata": {},
   "source": [
    "CONTROLLING THE ACTION"
   ]
  },
  {
   "cell_type": "code",
   "execution_count": 20,
   "metadata": {},
   "outputs": [
    {
     "name": "stdout",
     "output_type": "stream",
     "text": [
      "Good Night\n",
      "I am Here\n"
     ]
    }
   ],
   "source": [
    "sun = \"Down\"\n",
    "if sun == \"Down\": print(\"Good Night\")\n",
    "print(\"I am Here\")"
   ]
  },
  {
   "cell_type": "code",
   "execution_count": 21,
   "metadata": {},
   "outputs": [
    {
     "name": "stdout",
     "output_type": "stream",
     "text": [
      "I am Here\n"
     ]
    }
   ],
   "source": [
    "sun = \"Up\"\n",
    "if sun == \"Down\": \n",
    "    print(\"Good Night\")\n",
    "print(\"I am Here\")"
   ]
  },
  {
   "cell_type": "code",
   "execution_count": 23,
   "metadata": {},
   "outputs": [
    {
     "name": "stdout",
     "output_type": "stream",
     "text": [
      "Subtotal : $100.00\n",
      "Sales Tax: $6.50\n",
      "Total    :$100.00\n"
     ]
    }
   ],
   "source": [
    "total = 100\n",
    "sales_tax_rate = 0.065\n",
    "taxable = True\n",
    "if taxable:\n",
    "    print (f\"Subtotal : ${total:.2f}\")\n",
    "    sales_tax = total * sales_tax_rate\n",
    "    print(f\"Sales Tax: ${sales_tax:.2f}\")\n",
    "    Total = total + sales_tax\n",
    "print(f\"Total    :${total:.2f}\")"
   ]
  },
  {
   "cell_type": "code",
   "execution_count": 24,
   "metadata": {},
   "outputs": [
    {
     "name": "stdout",
     "output_type": "stream",
     "text": [
      "Total    :$100.00\n"
     ]
    }
   ],
   "source": [
    "total = 100\n",
    "sales_tax_rate = 0.065\n",
    "taxable = False\n",
    "if taxable:\n",
    "    print (f\"Subtotal : ${total:.2f}\")\n",
    "    sales_tax = total * sales_tax_rate\n",
    "    print(f\"Sales Tax: ${sales_tax:.2f}\")\n",
    "    Total = total + sales_tax\n",
    "print(f\"Total    :${total:.2f}\")"
   ]
  },
  {
   "cell_type": "markdown",
   "metadata": {},
   "source": [
    "ADDING IN ELSE "
   ]
  },
  {
   "cell_type": "code",
   "execution_count": 1,
   "metadata": {},
   "outputs": [
    {
     "name": "stdout",
     "output_type": "stream",
     "text": [
      "Good Morining\n",
      " I HOPE YOU ARE DOING WELL\n"
     ]
    }
   ],
   "source": [
    "import datetime as dt\n",
    "now = dt.datetime.now()\n",
    "if now.hour < 12:\n",
    "    print(\"Good Morining\")\n",
    "else:\n",
    "    print(\"Good afternoon\")\n",
    "print (\" I HOPE YOU ARE DOING WELL\") "
   ]
  },
  {
   "cell_type": "markdown",
   "metadata": {},
   "source": [
    "ADDING IN ELIF"
   ]
  },
  {
   "cell_type": "code",
   "execution_count": 4,
   "metadata": {},
   "outputs": [
    {
     "name": "stdout",
     "output_type": "stream",
     "text": [
      "GO\n",
      "this code runs no matter what\n"
     ]
    }
   ],
   "source": [
    "light_color = \"green\"\n",
    "if light_color == \"green\":\n",
    "    print(\"GO\")\n",
    "elif light_color ==\"red\":\n",
    "    print(\"stop\")\n",
    "print(\"this code runs no matter what\")"
   ]
  },
  {
   "cell_type": "code",
   "execution_count": null,
   "metadata": {},
   "outputs": [],
   "source": []
  },
  {
   "cell_type": "code",
   "execution_count": 5,
   "metadata": {},
   "outputs": [
    {
     "name": "stdout",
     "output_type": "stream",
     "text": [
      "stop\n",
      "this code runs no matter what\n"
     ]
    }
   ],
   "source": [
    "light_color = \"red\"\n",
    "if light_color == \"green\":\n",
    "    print(\"GO\")\n",
    "elif light_color ==\"red\":\n",
    "    print(\"stop\")\n",
    "print(\"this code runs no matter what\")"
   ]
  },
  {
   "cell_type": "code",
   "execution_count": null,
   "metadata": {},
   "outputs": [],
   "source": []
  },
  {
   "cell_type": "code",
   "execution_count": 6,
   "metadata": {},
   "outputs": [
    {
     "name": "stdout",
     "output_type": "stream",
     "text": [
      "this code runs no matter what\n"
     ]
    }
   ],
   "source": [
    "light_color = \"yellow\"\n",
    "if light_color == \"green\":\n",
    "    print(\"GO\")\n",
    "elif light_color ==\"red\":\n",
    "    print(\"stop\")\n",
    "print(\"this code runs no matter what\")"
   ]
  },
  {
   "cell_type": "code",
   "execution_count": null,
   "metadata": {},
   "outputs": [],
   "source": []
  },
  {
   "cell_type": "code",
   "execution_count": 8,
   "metadata": {},
   "outputs": [
    {
     "name": "stdout",
     "output_type": "stream",
     "text": [
      "Procedd with caution\n",
      "this code runs no matter what\n"
     ]
    }
   ],
   "source": [
    "light_color = \"yellow\"\n",
    "if light_color == \"green\":\n",
    "    print(\"GO\")\n",
    "elif light_color ==\"red\":\n",
    "    print(\"stop\")\n",
    "else:\n",
    "    print(\"Procedd with caution\")\n",
    "print(\"this code runs no matter what\")"
   ]
  },
  {
   "cell_type": "markdown",
   "metadata": {},
   "source": [
    "REPEATING THE PROCESS with FOR"
   ]
  },
  {
   "cell_type": "code",
   "execution_count": 9,
   "metadata": {},
   "outputs": [
    {
     "name": "stdout",
     "output_type": "stream",
     "text": [
      "0\n",
      "1\n",
      "2\n",
      "3\n",
      "4\n",
      "5\n",
      "6\n",
      "ALL DONE\n"
     ]
    }
   ],
   "source": [
    "for x in range(7):\n",
    "    print(x)\n",
    "print (\"ALL DONE\")"
   ]
  },
  {
   "cell_type": "code",
   "execution_count": 11,
   "metadata": {},
   "outputs": [
    {
     "name": "stdout",
     "output_type": "stream",
     "text": [
      "1\n",
      "2\n",
      "3\n",
      "4\n",
      "5\n",
      "6\n",
      "7\n",
      "8\n",
      "9\n",
      " ALL DONE\n"
     ]
    }
   ],
   "source": [
    "for w in range(1,10):\n",
    "    print(w)\n",
    "print (\" ALL DONE\")"
   ]
  },
  {
   "cell_type": "markdown",
   "metadata": {},
   "source": [
    "LOOPING THROUGH a STRING"
   ]
  },
  {
   "cell_type": "code",
   "execution_count": 13,
   "metadata": {},
   "outputs": [
    {
     "name": "stdout",
     "output_type": "stream",
     "text": [
      "s\n",
      "n\n",
      "o\n",
      "r\n",
      "k\n",
      "e\n",
      "l\n",
      "DONE\n"
     ]
    }
   ],
   "source": [
    "for  y in \"snorkel\":\n",
    "    print (y)\n",
    "print(\"DONE\")"
   ]
  },
  {
   "cell_type": "code",
   "execution_count": 14,
   "metadata": {},
   "outputs": [
    {
     "name": "stdout",
     "output_type": "stream",
     "text": [
      "s\n",
      "n\n",
      "o\n",
      "r\n",
      "k\n",
      "e\n",
      "l\n",
      "DONE\n"
     ]
    }
   ],
   "source": [
    "my_word = \"snorkel\"\n",
    "for s in my_word:\n",
    "    print(s)\n",
    "print(\"DONE\")"
   ]
  },
  {
   "cell_type": "markdown",
   "metadata": {},
   "source": [
    "LOOPING THROUG a LIST"
   ]
  },
  {
   "cell_type": "code",
   "execution_count": 15,
   "metadata": {},
   "outputs": [
    {
     "name": "stdout",
     "output_type": "stream",
     "text": [
      "The\n",
      "rain\n",
      "in\n",
      "Spain\n",
      "DONE w LIST\n"
     ]
    }
   ],
   "source": [
    "for q in [\"The\", \"rain\", \"in\", \"Spain\"]:\n",
    "    print(q)\n",
    "print (\"DONE w LIST\")"
   ]
  },
  {
   "cell_type": "code",
   "execution_count": 17,
   "metadata": {},
   "outputs": [
    {
     "name": "stdout",
     "output_type": "stream",
     "text": [
      "Happy\n",
      "Grumpy\n",
      "Sleepy\n",
      "Bashful\n",
      "Sneezy\n",
      "Doc\n",
      "Dopey\n",
      "And Snow White too\n"
     ]
    }
   ],
   "source": [
    "seven_dwarves = [\"Happy\", \"Grumpy\", \"Sleepy\", \"Bashful\", \"Sneezy\", \"Doc\", \"Dopey\"]\n",
    "for dwarf in seven_dwarves:\n",
    "    print(dwarf)\n",
    "print (\"And Snow White too\")"
   ]
  },
  {
   "cell_type": "markdown",
   "metadata": {},
   "source": [
    "BAILING OUT of a LOOP"
   ]
  },
  {
   "cell_type": "code",
   "execution_count": 19,
   "metadata": {},
   "outputs": [
    {
     "name": "stdout",
     "output_type": "stream",
     "text": [
      "A\n",
      "C\n",
      "B\n",
      "D\n",
      "Loop is Done\n"
     ]
    }
   ],
   "source": [
    "answers = [ \"A\", \"C\", \"B\", \"D\"]\n",
    "for answer in answers:\n",
    "    if answer ==\"\":\n",
    "        print(\"Incomplete\")\n",
    "        break\n",
    "    print(answer)\n",
    "print (\"Loop is Done\")"
   ]
  },
  {
   "cell_type": "code",
   "execution_count": 20,
   "metadata": {},
   "outputs": [
    {
     "name": "stdout",
     "output_type": "stream",
     "text": [
      "A\n",
      "C\n",
      "Incomplete\n",
      "Loop is Done\n"
     ]
    }
   ],
   "source": [
    "answers = [ \"A\", \"C\", \"\", \"B\", \"D\"]\n",
    "for answer in answers:\n",
    "    if answer ==\"\":\n",
    "        print(\"Incomplete\")\n",
    "        break\n",
    "    print(answer)\n",
    "print (\"Loop is Done\")"
   ]
  },
  {
   "cell_type": "markdown",
   "metadata": {},
   "source": [
    "LOOPING with CONTINUE"
   ]
  },
  {
   "cell_type": "code",
   "execution_count": 25,
   "metadata": {},
   "outputs": [
    {
     "name": "stdout",
     "output_type": "stream",
     "text": [
      "A\n",
      "C\n",
      "Incomplete\n",
      "B\n",
      "D\n",
      "Loop is Done\n"
     ]
    }
   ],
   "source": [
    "answers = [ \"A\", \"C\", \"\", \"B\", \"D\"]\n",
    "for answer in answers:\n",
    "    if answer ==\"\":\n",
    "        print(\"Incomplete\")\n",
    "        continue\n",
    "    print(answer)\n",
    "print (\"Loop is Done\")"
   ]
  },
  {
   "cell_type": "markdown",
   "metadata": {},
   "source": [
    "NESTING LOOPS"
   ]
  },
  {
   "cell_type": "code",
   "execution_count": 28,
   "metadata": {},
   "outputs": [
    {
     "name": "stdout",
     "output_type": "stream",
     "text": [
      "First\n",
      "1\n",
      "2\n",
      "3\n",
      "Second\n",
      "1\n",
      "2\n",
      "3\n",
      "Third\n",
      "1\n",
      "2\n",
      "3\n",
      "Both loops are DONE\n"
     ]
    }
   ],
   "source": [
    "for outer in [\"First\", \"Second\", \"Third\"]:\n",
    "    print(outer)\n",
    "    for inner in range(3):\n",
    "        print(inner + 1)\n",
    "print(\"Both loops are DONE\")"
   ]
  },
  {
   "cell_type": "markdown",
   "metadata": {},
   "source": [
    "LOOPING with WHILE"
   ]
  },
  {
   "cell_type": "code",
   "execution_count": 29,
   "metadata": {},
   "outputs": [
    {
     "name": "stdout",
     "output_type": "stream",
     "text": [
      "65=A\n",
      "66=B\n",
      "67=C\n",
      "68=D\n",
      "69=E\n",
      "70=F\n",
      "71=G\n",
      "72=H\n",
      "73=I\n",
      "74=J\n",
      "75=K\n",
      "76=L\n",
      "77=M\n",
      "78=N\n",
      "79=O\n",
      "80=P\n",
      "81=Q\n",
      "82=R\n",
      "83=S\n",
      "84=T\n",
      "85=U\n",
      "86=V\n",
      "87=W\n",
      "88=X\n",
      "89=Y\n",
      "90=Z\n",
      "ALL DONE COUNTING\n"
     ]
    }
   ],
   "source": [
    "counter = 65\n",
    "while counter < 91:\n",
    "    print(str(counter) + \"=\" + chr(counter))\n",
    "    counter +=1\n",
    "print(\"ALL DONE COUNTING\")"
   ]
  },
  {
   "cell_type": "code",
   "execution_count": null,
   "metadata": {},
   "outputs": [],
   "source": []
  },
  {
   "cell_type": "code",
   "execution_count": null,
   "metadata": {},
   "outputs": [],
   "source": []
  },
  {
   "cell_type": "code",
   "execution_count": null,
   "metadata": {},
   "outputs": [],
   "source": []
  }
 ],
 "metadata": {
  "kernelspec": {
   "display_name": "Python 3",
   "language": "python",
   "name": "python3"
  },
  "language_info": {
   "codemirror_mode": {
    "name": "ipython",
    "version": 3
   },
   "file_extension": ".py",
   "mimetype": "text/x-python",
   "name": "python",
   "nbconvert_exporter": "python",
   "pygments_lexer": "ipython3",
   "version": "3.7.3"
  }
 },
 "nbformat": 4,
 "nbformat_minor": 4
}
#added to GIT HUB 01232020
